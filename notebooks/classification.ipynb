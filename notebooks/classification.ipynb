{
 "cells": [
  {
   "cell_type": "code",
   "execution_count": 1,
   "metadata": {
    "id": "0XmqhrS1VF2g"
   },
   "outputs": [],
   "source": [
    "# A simple notebook demonstrating how to fine-tune a DinoV2 classifier on your own images/labels\n",
    "\n",
    "# Most of the core code was originally published in an excellent tutorial by Kili Technology, here:\n",
    "#  https://colab.research.google.com/github/kili-technology/kili-python-sdk/blob/main/recipes/finetuning_dinov2.ipynb\n",
    "\n",
    "# November 11th, 2023 by Lance Legel (lance@3co.ai) from 3co, Inc. (https://3co.ai)\n",
    "\n",
    "import os\n",
    "import sys\n",
    "sys.path.append(\"/home/aleximu/gunes/dinov2\")\n",
    "import random\n",
    "import math\n",
    "import zipfile\n",
    "from copy import deepcopy\n",
    "from pathlib import Path\n",
    "import matplotlib.pyplot as plt\n",
    "import numpy as np\n",
    "import torch\n",
    "from PIL import Image\n",
    "from torch import nn, optim\n",
    "import warnings\n",
    "warnings.filterwarnings('ignore', category=UserWarning)\n",
    "from torchvision import datasets, transforms\n",
    "from dinov2.models.vision_transformer import vit_small, vit_base, vit_large, vit_giant2\n",
    "\n"
   ]
  },
  {
   "cell_type": "code",
   "execution_count": 2,
   "metadata": {
    "id": "CDMhLW5pVF2m",
    "outputId": "dfa05b17-2f64-483f-9289-1fac4e00dc0d"
   },
   "outputs": [],
   "source": [
    "local_directory = os.getcwd()\n",
    "train_dataset_dir = Path(\"/home/aleximu/gunes/dinov2/dinov2/data/datasets/fishency/train\") # in \"train\", put a folder for each class, with folder name = class name\n",
    "valid_dataset_dir = Path(\"/home/aleximu/gunes/dinov2/dinov2/data/datasets/fishency/val\")   # in \"val\", same as above"
   ]
  },
  {
   "cell_type": "code",
   "execution_count": 18,
   "metadata": {
    "id": "ztcDoPyIVF28",
    "outputId": "70f253b5-7d13-4d38-b189-715e93683579"
   },
   "outputs": [],
   "source": [
    "# These are settings for ensuring input images to DinoV2 are properly sized\n",
    "\n",
    "class ResizeAndPad:\n",
    "    def __init__(self, target_size, multiple):\n",
    "        self.target_size = target_size\n",
    "        self.multiple = multiple\n",
    "\n",
    "    def __call__(self, img):\n",
    "        # Resize the image\n",
    "        img = transforms.Resize(self.target_size)(img)\n",
    "        \n",
    "        # Calculate padding\n",
    "        pad_width = (self.multiple - img.width % self.multiple) % self.multiple\n",
    "        pad_height = (self.multiple - img.height % self.multiple) % self.multiple\n",
    "\n",
    "        # Apply padding\n",
    "        img = transforms.Pad((pad_width // 2, pad_height // 2, pad_width - pad_width // 2, pad_height - pad_height // 2))(img)\n",
    "        \n",
    "        return img\n",
    "\n",
    "image_dimension = 526\n",
    "    \n",
    "# This is what DinoV2 sees\n",
    "target_size = (image_dimension, image_dimension)\n",
    "\n",
    "# Below are functions that every image will be passed through, including data augmentations\n",
    "data_transforms = {\n",
    "    \"train\": transforms.Compose(\n",
    "        [\n",
    "            ResizeAndPad(target_size, 14),\n",
    "            transforms.RandomRotation(360),\n",
    "            transforms.RandomHorizontalFlip(),\n",
    "            transforms.RandomVerticalFlip(),\n",
    "            transforms.ToTensor(),\n",
    "            transforms.Normalize([0.485, 0.456, 0.406], [0.229, 0.224, 0.225]),\n",
    "        ]\n",
    "    ),\n",
    "}\n",
    "\n",
    "# Here is where we wrap up our images, which are in folders (defined above) where the folder name is class name\n",
    "# As long as you defined the \"train\" folder above with sub-folders for each class, below will \"just work\"\n",
    "image_datasets = {\n",
    "    \"train\": datasets.ImageFolder(train_dataset_dir, data_transforms[\"train\"])\n",
    "}\n",
    "\n",
    "\n",
    "\n",
    "dataloaders = {\n",
    "    \"train\": torch.utils.data.DataLoader(image_datasets[\"train\"], batch_size=1, shuffle=True)\n",
    "}\n",
    "\n",
    "class_names = image_datasets[\"train\"].classes"
   ]
  },
  {
   "cell_type": "code",
   "execution_count": 19,
   "metadata": {
    "id": "pGzRW8J1VF29"
   },
   "outputs": [],
   "source": [
    "device = torch.device(\"cuda\") if torch.cuda.is_available() else torch.device(\"cpu\")"
   ]
  },
  {
   "cell_type": "code",
   "execution_count": 40,
   "metadata": {
    "id": "CSMLRlDUVF2-"
   },
   "outputs": [],
   "source": [
    "# Define a new classifier layer that contains a few linear layers with a ReLU to make predictions positive\n",
    "class DinoVisionTransformerSegmentation(nn.Module):\n",
    "    \n",
    "    def __init__(self, model_size=\"large\"):\n",
    "        super(DinoVisionTransformerSegmentation, self).__init__()\n",
    "        self.model_size = model_size\n",
    "        \n",
    "        # loading a model with registers\n",
    "        n_register_tokens = 4\n",
    "        \n",
    "        if model_size == \"small\":        \n",
    "            model = vit_small(patch_size=14,\n",
    "                              img_size=526,\n",
    "                              init_values=1.0,\n",
    "                              num_register_tokens=n_register_tokens,\n",
    "                              block_chunks=0)\n",
    "            self.embedding_size = 384\n",
    "            self.number_of_heads = 6\n",
    "            \n",
    "        elif model_size == \"base\":\n",
    "            model = vit_base(patch_size=14,\n",
    "                             img_size=526,\n",
    "                             init_values=1.0,\n",
    "                             num_register_tokens=n_register_tokens,\n",
    "                             block_chunks=0)\n",
    "            self.embedding_size = 768\n",
    "            self.number_of_heads = 12\n",
    "\n",
    "        elif model_size == \"large\":\n",
    "            model = vit_large(patch_size=14,\n",
    "                              img_size=526,\n",
    "                              init_values=1.0,\n",
    "                              num_register_tokens=n_register_tokens,\n",
    "                              block_chunks=0)\n",
    "            self.embedding_size = 1024\n",
    "            self.number_of_heads = 16\n",
    "            \n",
    "        elif model_size == \"giant\":\n",
    "            model = vit_giant2(patch_size=14,\n",
    "                               img_size=526,\n",
    "                               init_values=1.0,\n",
    "                               num_register_tokens=n_register_tokens,\n",
    "                               block_chunks=0)\n",
    "            self.embedding_size = 1536\n",
    "            self.number_of_heads = 24\n",
    "        \n",
    "        # Download pre-trained weights and place locally as-needed:\n",
    "        # - small: https://dl.fbaipublicfiles.com/dinov2/dinov2_vits14/dinov2_vits14_reg4_pretrain.pth\n",
    "        # - base:  https://dl.fbaipublicfiles.com/dinov2/dinov2_vitb14/dinov2_vitb14_reg4_pretrain.pth \n",
    "        # - large: https://dl.fbaipublicfiles.com/dinov2/dinov2_vitl14/dinov2_vitl14_reg4_pretrain.pth\n",
    "        # - giant: https://dl.fbaipublicfiles.com/dinov2/dinov2_vitg14/dinov2_vitg14_reg4_pretrain.pth\n",
    "            \n",
    "        model.load_state_dict(torch.load(Path('{}/dinov2_vitl14_reg4_pretrain.pth'.format(local_directory))))\n",
    "\n",
    "        self.transformer = deepcopy(model)\n",
    "\n",
    "        self.segmentation_head = nn.Sequential(\n",
    "                                nn.Conv2d(self.embedding_size, 256, kernel_size=3, padding=1),\n",
    "                                nn.ReLU(),\n",
    "                                nn.Conv2d(256, 1, kernel_size=1)\n",
    "        )\n",
    "\n",
    "    def forward(self, x):\n",
    "        transformer_output = self.transformer(x)\n",
    "        print(transformer_output.shape)\n",
    "        segmentation_output = self.segmentation_head(transformer_output)\n",
    "\n",
    "        return segmentation_output\n",
    "\n",
    "model = DinoVisionTransformerSegmentation(\"large\")"
   ]
  },
  {
   "cell_type": "code",
   "execution_count": 41,
   "metadata": {
    "id": "vs84EaOQVF2_",
    "outputId": "63b17041-6003-4fab-a79a-e579dac1bead"
   },
   "outputs": [
    {
     "name": "stdout",
     "output_type": "stream",
     "text": [
      "Using 2 GPUs for Data Parallelism.\n"
     ]
    }
   ],
   "source": [
    "model = model.to(device)\n",
    "if torch.cuda.device_count() > 1:\n",
    "    print(\"Using\", torch.cuda.device_count(), \"GPUs for Data Parallelism.\")\n",
    "    model = nn.DataParallel(model)\n",
    "model = model.train()"
   ]
  },
  {
   "cell_type": "code",
   "execution_count": 42,
   "metadata": {
    "id": "_nYTD0lwVF2_"
   },
   "outputs": [],
   "source": [
    "# change the binary cross-entropy loss below to a different loss if using more than 2 classes \n",
    "# https://pytorch.org/docs/stable/nn.html#loss-functions\n",
    "\n",
    "criterion = nn.BCEWithLogitsLoss()\n",
    "\n",
    "optimizer = optim.Adam(model.parameters(), lr=0.000078125)"
   ]
  },
  {
   "cell_type": "code",
   "execution_count": 43,
   "metadata": {
    "id": "yCnYx7BIVF3A"
   },
   "outputs": [],
   "source": [
    "num_epochs = 10"
   ]
  },
  {
   "cell_type": "code",
   "execution_count": 44,
   "metadata": {
    "id": "14vdJZdKVF3A",
    "outputId": "e1fce9ee-a366-4fc3-cebb-0782807ba3f1",
    "scrolled": false
   },
   "outputs": [
    {
     "name": "stdout",
     "output_type": "stream",
     "text": [
      "Training...\n",
      "torch.Size([1, 1024])\n"
     ]
    },
    {
     "ename": "RuntimeError",
     "evalue": "Caught RuntimeError in replica 0 on device 0.\nOriginal Traceback (most recent call last):\n  File \"/home/aleximu/anaconda3/envs/dinov2/lib/python3.9/site-packages/torch/nn/parallel/parallel_apply.py\", line 64, in _worker\n    output = module(*input, **kwargs)\n  File \"/home/aleximu/anaconda3/envs/dinov2/lib/python3.9/site-packages/torch/nn/modules/module.py\", line 1501, in _call_impl\n    return forward_call(*args, **kwargs)\n  File \"/tmp/ipykernel_2060966/3158510579.py\", line 66, in forward\n    segmentation_output = self.segmentation_head(transformer_output)\n  File \"/home/aleximu/anaconda3/envs/dinov2/lib/python3.9/site-packages/torch/nn/modules/module.py\", line 1501, in _call_impl\n    return forward_call(*args, **kwargs)\n  File \"/home/aleximu/anaconda3/envs/dinov2/lib/python3.9/site-packages/torch/nn/modules/container.py\", line 217, in forward\n    input = module(input)\n  File \"/home/aleximu/anaconda3/envs/dinov2/lib/python3.9/site-packages/torch/nn/modules/module.py\", line 1501, in _call_impl\n    return forward_call(*args, **kwargs)\n  File \"/home/aleximu/anaconda3/envs/dinov2/lib/python3.9/site-packages/torch/nn/modules/conv.py\", line 463, in forward\n    return self._conv_forward(input, self.weight, self.bias)\n  File \"/home/aleximu/anaconda3/envs/dinov2/lib/python3.9/site-packages/torch/nn/modules/conv.py\", line 459, in _conv_forward\n    return F.conv2d(input, weight, bias, self.stride,\nRuntimeError: Expected 3D (unbatched) or 4D (batched) input to conv2d, but got input of size: [1, 1024]\n",
     "output_type": "error",
     "traceback": [
      "\u001b[0;31m---------------------------------------------------------------------------\u001b[0m",
      "\u001b[0;31mRuntimeError\u001b[0m                              Traceback (most recent call last)",
      "Cell \u001b[0;32mIn[44], line 26\u001b[0m\n\u001b[1;32m     23\u001b[0m optimizer\u001b[38;5;241m.\u001b[39mzero_grad()\n\u001b[1;32m     25\u001b[0m \u001b[38;5;66;03m# model prediction\u001b[39;00m\n\u001b[0;32m---> 26\u001b[0m output \u001b[38;5;241m=\u001b[39m \u001b[43mmodel\u001b[49m\u001b[43m(\u001b[49m\u001b[43mbatch_of_images\u001b[49m\u001b[38;5;241;43m.\u001b[39;49m\u001b[43mto\u001b[49m\u001b[43m(\u001b[49m\u001b[43mdevice\u001b[49m\u001b[43m)\u001b[49m\u001b[43m)\u001b[49m\u001b[38;5;241m.\u001b[39msqueeze(dim\u001b[38;5;241m=\u001b[39m\u001b[38;5;241m1\u001b[39m)\n\u001b[1;32m     27\u001b[0m \u001b[38;5;66;03m# compute loss and do gradient descent\u001b[39;00m\n\u001b[1;32m     28\u001b[0m loss \u001b[38;5;241m=\u001b[39m criterion(output, labels\u001b[38;5;241m.\u001b[39mfloat()\u001b[38;5;241m.\u001b[39mto(device))\n",
      "File \u001b[0;32m~/anaconda3/envs/dinov2/lib/python3.9/site-packages/torch/nn/modules/module.py:1501\u001b[0m, in \u001b[0;36mModule._call_impl\u001b[0;34m(self, *args, **kwargs)\u001b[0m\n\u001b[1;32m   1496\u001b[0m \u001b[38;5;66;03m# If we don't have any hooks, we want to skip the rest of the logic in\u001b[39;00m\n\u001b[1;32m   1497\u001b[0m \u001b[38;5;66;03m# this function, and just call forward.\u001b[39;00m\n\u001b[1;32m   1498\u001b[0m \u001b[38;5;28;01mif\u001b[39;00m \u001b[38;5;129;01mnot\u001b[39;00m (\u001b[38;5;28mself\u001b[39m\u001b[38;5;241m.\u001b[39m_backward_hooks \u001b[38;5;129;01mor\u001b[39;00m \u001b[38;5;28mself\u001b[39m\u001b[38;5;241m.\u001b[39m_backward_pre_hooks \u001b[38;5;129;01mor\u001b[39;00m \u001b[38;5;28mself\u001b[39m\u001b[38;5;241m.\u001b[39m_forward_hooks \u001b[38;5;129;01mor\u001b[39;00m \u001b[38;5;28mself\u001b[39m\u001b[38;5;241m.\u001b[39m_forward_pre_hooks\n\u001b[1;32m   1499\u001b[0m         \u001b[38;5;129;01mor\u001b[39;00m _global_backward_pre_hooks \u001b[38;5;129;01mor\u001b[39;00m _global_backward_hooks\n\u001b[1;32m   1500\u001b[0m         \u001b[38;5;129;01mor\u001b[39;00m _global_forward_hooks \u001b[38;5;129;01mor\u001b[39;00m _global_forward_pre_hooks):\n\u001b[0;32m-> 1501\u001b[0m     \u001b[38;5;28;01mreturn\u001b[39;00m \u001b[43mforward_call\u001b[49m\u001b[43m(\u001b[49m\u001b[38;5;241;43m*\u001b[39;49m\u001b[43margs\u001b[49m\u001b[43m,\u001b[49m\u001b[43m \u001b[49m\u001b[38;5;241;43m*\u001b[39;49m\u001b[38;5;241;43m*\u001b[39;49m\u001b[43mkwargs\u001b[49m\u001b[43m)\u001b[49m\n\u001b[1;32m   1502\u001b[0m \u001b[38;5;66;03m# Do not call functions when jit is used\u001b[39;00m\n\u001b[1;32m   1503\u001b[0m full_backward_hooks, non_full_backward_hooks \u001b[38;5;241m=\u001b[39m [], []\n",
      "File \u001b[0;32m~/anaconda3/envs/dinov2/lib/python3.9/site-packages/torch/nn/parallel/data_parallel.py:171\u001b[0m, in \u001b[0;36mDataParallel.forward\u001b[0;34m(self, *inputs, **kwargs)\u001b[0m\n\u001b[1;32m    169\u001b[0m     \u001b[38;5;28;01mreturn\u001b[39;00m \u001b[38;5;28mself\u001b[39m\u001b[38;5;241m.\u001b[39mmodule(\u001b[38;5;241m*\u001b[39minputs[\u001b[38;5;241m0\u001b[39m], \u001b[38;5;241m*\u001b[39m\u001b[38;5;241m*\u001b[39mkwargs[\u001b[38;5;241m0\u001b[39m])\n\u001b[1;32m    170\u001b[0m replicas \u001b[38;5;241m=\u001b[39m \u001b[38;5;28mself\u001b[39m\u001b[38;5;241m.\u001b[39mreplicate(\u001b[38;5;28mself\u001b[39m\u001b[38;5;241m.\u001b[39mmodule, \u001b[38;5;28mself\u001b[39m\u001b[38;5;241m.\u001b[39mdevice_ids[:\u001b[38;5;28mlen\u001b[39m(inputs)])\n\u001b[0;32m--> 171\u001b[0m outputs \u001b[38;5;241m=\u001b[39m \u001b[38;5;28;43mself\u001b[39;49m\u001b[38;5;241;43m.\u001b[39;49m\u001b[43mparallel_apply\u001b[49m\u001b[43m(\u001b[49m\u001b[43mreplicas\u001b[49m\u001b[43m,\u001b[49m\u001b[43m \u001b[49m\u001b[43minputs\u001b[49m\u001b[43m,\u001b[49m\u001b[43m \u001b[49m\u001b[43mkwargs\u001b[49m\u001b[43m)\u001b[49m\n\u001b[1;32m    172\u001b[0m \u001b[38;5;28;01mreturn\u001b[39;00m \u001b[38;5;28mself\u001b[39m\u001b[38;5;241m.\u001b[39mgather(outputs, \u001b[38;5;28mself\u001b[39m\u001b[38;5;241m.\u001b[39moutput_device)\n",
      "File \u001b[0;32m~/anaconda3/envs/dinov2/lib/python3.9/site-packages/torch/nn/parallel/data_parallel.py:181\u001b[0m, in \u001b[0;36mDataParallel.parallel_apply\u001b[0;34m(self, replicas, inputs, kwargs)\u001b[0m\n\u001b[1;32m    180\u001b[0m \u001b[38;5;28;01mdef\u001b[39;00m \u001b[38;5;21mparallel_apply\u001b[39m(\u001b[38;5;28mself\u001b[39m, replicas, inputs, kwargs):\n\u001b[0;32m--> 181\u001b[0m     \u001b[38;5;28;01mreturn\u001b[39;00m \u001b[43mparallel_apply\u001b[49m\u001b[43m(\u001b[49m\u001b[43mreplicas\u001b[49m\u001b[43m,\u001b[49m\u001b[43m \u001b[49m\u001b[43minputs\u001b[49m\u001b[43m,\u001b[49m\u001b[43m \u001b[49m\u001b[43mkwargs\u001b[49m\u001b[43m,\u001b[49m\u001b[43m \u001b[49m\u001b[38;5;28;43mself\u001b[39;49m\u001b[38;5;241;43m.\u001b[39;49m\u001b[43mdevice_ids\u001b[49m\u001b[43m[\u001b[49m\u001b[43m:\u001b[49m\u001b[38;5;28;43mlen\u001b[39;49m\u001b[43m(\u001b[49m\u001b[43mreplicas\u001b[49m\u001b[43m)\u001b[49m\u001b[43m]\u001b[49m\u001b[43m)\u001b[49m\n",
      "File \u001b[0;32m~/anaconda3/envs/dinov2/lib/python3.9/site-packages/torch/nn/parallel/parallel_apply.py:89\u001b[0m, in \u001b[0;36mparallel_apply\u001b[0;34m(modules, inputs, kwargs_tup, devices)\u001b[0m\n\u001b[1;32m     87\u001b[0m     output \u001b[38;5;241m=\u001b[39m results[i]\n\u001b[1;32m     88\u001b[0m     \u001b[38;5;28;01mif\u001b[39;00m \u001b[38;5;28misinstance\u001b[39m(output, ExceptionWrapper):\n\u001b[0;32m---> 89\u001b[0m         \u001b[43moutput\u001b[49m\u001b[38;5;241;43m.\u001b[39;49m\u001b[43mreraise\u001b[49m\u001b[43m(\u001b[49m\u001b[43m)\u001b[49m\n\u001b[1;32m     90\u001b[0m     outputs\u001b[38;5;241m.\u001b[39mappend(output)\n\u001b[1;32m     91\u001b[0m \u001b[38;5;28;01mreturn\u001b[39;00m outputs\n",
      "File \u001b[0;32m~/anaconda3/envs/dinov2/lib/python3.9/site-packages/torch/_utils.py:644\u001b[0m, in \u001b[0;36mExceptionWrapper.reraise\u001b[0;34m(self)\u001b[0m\n\u001b[1;32m    640\u001b[0m \u001b[38;5;28;01mexcept\u001b[39;00m \u001b[38;5;167;01mTypeError\u001b[39;00m:\n\u001b[1;32m    641\u001b[0m     \u001b[38;5;66;03m# If the exception takes multiple arguments, don't try to\u001b[39;00m\n\u001b[1;32m    642\u001b[0m     \u001b[38;5;66;03m# instantiate since we don't know how to\u001b[39;00m\n\u001b[1;32m    643\u001b[0m     \u001b[38;5;28;01mraise\u001b[39;00m \u001b[38;5;167;01mRuntimeError\u001b[39;00m(msg) \u001b[38;5;28;01mfrom\u001b[39;00m \u001b[38;5;28;01mNone\u001b[39;00m\n\u001b[0;32m--> 644\u001b[0m \u001b[38;5;28;01mraise\u001b[39;00m exception\n",
      "\u001b[0;31mRuntimeError\u001b[0m: Caught RuntimeError in replica 0 on device 0.\nOriginal Traceback (most recent call last):\n  File \"/home/aleximu/anaconda3/envs/dinov2/lib/python3.9/site-packages/torch/nn/parallel/parallel_apply.py\", line 64, in _worker\n    output = module(*input, **kwargs)\n  File \"/home/aleximu/anaconda3/envs/dinov2/lib/python3.9/site-packages/torch/nn/modules/module.py\", line 1501, in _call_impl\n    return forward_call(*args, **kwargs)\n  File \"/tmp/ipykernel_2060966/3158510579.py\", line 66, in forward\n    segmentation_output = self.segmentation_head(transformer_output)\n  File \"/home/aleximu/anaconda3/envs/dinov2/lib/python3.9/site-packages/torch/nn/modules/module.py\", line 1501, in _call_impl\n    return forward_call(*args, **kwargs)\n  File \"/home/aleximu/anaconda3/envs/dinov2/lib/python3.9/site-packages/torch/nn/modules/container.py\", line 217, in forward\n    input = module(input)\n  File \"/home/aleximu/anaconda3/envs/dinov2/lib/python3.9/site-packages/torch/nn/modules/module.py\", line 1501, in _call_impl\n    return forward_call(*args, **kwargs)\n  File \"/home/aleximu/anaconda3/envs/dinov2/lib/python3.9/site-packages/torch/nn/modules/conv.py\", line 463, in forward\n    return self._conv_forward(input, self.weight, self.bias)\n  File \"/home/aleximu/anaconda3/envs/dinov2/lib/python3.9/site-packages/torch/nn/modules/conv.py\", line 459, in _conv_forward\n    return F.conv2d(input, weight, bias, self.stride,\nRuntimeError: Expected 3D (unbatched) or 4D (batched) input to conv2d, but got input of size: [1, 1024]\n"
     ]
    }
   ],
   "source": [
    "def calculate_iou(outputs, labels, threshold=0.5):\n",
    "    \n",
    "    binary_predictions = (torch.sigmoid(outputs) > threshold).float()\n",
    "    \n",
    "    intersection = torch.sum(binary_predictions * labels)\n",
    "    # Calculate accuracy\n",
    "    union = torch.sum(binary_predictions) + torch.sum(labels) - intersection\n",
    "    iou = (intersection + 1e-10) / (union + 1e-10)\n",
    "    return iou.item()\n",
    "\n",
    "epoch_losses = []\n",
    "epoch_ious = []\n",
    "\n",
    "print(\"Training...\")\n",
    "for epoch in range(num_epochs):\n",
    "    batch_losses = []\n",
    "    batch_ious = []\n",
    "\n",
    "    for data in dataloaders[\"train\"]:\n",
    "        # get the input batch and the labels\n",
    "        batch_of_images, labels = data\n",
    "        # zero the parameter gradients\n",
    "        optimizer.zero_grad()\n",
    "\n",
    "        # model prediction\n",
    "        output = model(batch_of_images.to(device)).squeeze(dim=1)\n",
    "        # compute loss and do gradient descent\n",
    "        loss = criterion(output, labels.float().to(device))\n",
    "\n",
    "        loss.backward()\n",
    "        optimizer.step()\n",
    "\n",
    "        batch_losses.append(loss.item())\n",
    "        \n",
    "        # Calculate and record batch accuracy\n",
    "        iou = calculate_iou(output, labels.to(device))\n",
    "        batch_ious.append(iou)\n",
    "\n",
    "    epoch_losses.append(np.mean(batch_losses))\n",
    "    epoch_iou = np.mean(batch_ious)\n",
    "    epoch_ious.append(epoch_iou)\n",
    "\n",
    "    print(\"  -> Epoch {}: Loss = {:.5f}, IoU = {:.3f}%\".format(epoch, epoch_losses[-1], 100*epoch_iou))"
   ]
  },
  {
   "cell_type": "code",
   "execution_count": null,
   "metadata": {
    "id": "JS7qHekbVF3B",
    "outputId": "cc9c8113-15df-4846-ff94-2726c81a82ec"
   },
   "outputs": [
    {
     "data": {
      "text/plain": [
       "Text(0, 0.5, 'Loss')"
      ]
     },
     "execution_count": 10,
     "metadata": {},
     "output_type": "execute_result"
    },
    {
     "data": {
      "image/png": "[encoded data removed]",
      "text/plain": [
       "<Figure size 1200x500 with 2 Axes>"
      ]
     },
     "metadata": {},
     "output_type": "display_data"
    }
   ],
   "source": [
    "# Plotting accuracy\n",
    "plt.figure(figsize=(12, 5))\n",
    "\n",
    "plt.subplot(1, 2, 1)\n",
    "plt.plot(epoch_ious, label='IoU', color='blue')\n",
    "plt.title(\"Training Accuracy\")\n",
    "plt.xlabel(\"Epoch Number\")\n",
    "plt.ylabel(\"Accuracy\")\n",
    "\n",
    "# Plotting loss\n",
    "plt.subplot(1, 2, 2)\n",
    "plt.plot(epoch_losses, label='Loss', color='red')\n",
    "plt.title(\"Training Loss\")\n",
    "plt.xlabel(\"Epoch Number\")\n",
    "plt.ylabel(\"Loss\")"
   ]
  },
  {
   "cell_type": "code",
   "execution_count": 11,
   "metadata": {
    "id": "enAEtoTlVF3C"
   },
   "outputs": [],
   "source": [
    "# During inference / testing / deployment, we want to remove data augmentations from the input transform:\n",
    "inference_preprocessing = transforms.Compose([ ResizeAndPad(target_size, 14),\n",
    "                                               transforms.ToTensor(),\n",
    "                                               transforms.Normalize([0.485, 0.456, 0.406], [0.229, 0.224, 0.225]),\n",
    "                                             ]\n",
    "                                            )"
   ]
  },
  {
   "cell_type": "code",
   "execution_count": 12,
   "metadata": {
    "id": "jFwYs8zPVF3D",
    "scrolled": false
   },
   "outputs": [],
   "source": [
    "def inference_on_validation_data(inference_model, n_test_images=1):\n",
    "\n",
    "    for class_name in class_names:\n",
    "        # gather N validation images per class\n",
    "        val_class_dir = \"{}/{}\".format(valid_dataset_dir, class_name)\n",
    "        val_test_images = os.listdir(val_class_dir)[:n_test_images]\n",
    "\n",
    "        for val_test_image in val_test_images:\n",
    "\n",
    "            if \".jpg\" not in val_test_image and \".png\" not in val_test_image:\n",
    "                continue\n",
    "\n",
    "            # load image\n",
    "            img = Image.open(\"{}/{}\".format(val_class_dir, val_test_image))\n",
    "\n",
    "            # pre-process image and load onto device\n",
    "            img_tensor = inference_preprocessing(img)\n",
    "            img_tensor = img_tensor.unsqueeze(0)\n",
    "            input_tensor = img_tensor.to(device)\n",
    "\n",
    "            # run model on input image data\n",
    "            with torch.no_grad():\n",
    "                embeddings = inference_model.transformer(input_tensor)\n",
    "                x = inference_model.transformer.norm(embeddings)\n",
    "                output_tensor = inference_model.classifier(x)\n",
    "\n",
    "                # sigmoid\n",
    "                score = output_tensor[0][0].item()\n",
    "                score = 1 / (1 + np.exp(-score)) \n",
    "\n",
    "                # for binary classification, we can just interpret class name based on the 1 output score\n",
    "                predicted_class = class_names[1] if score > 0.5 else class_names[0]\n",
    "\n",
    "                print(\"\\n\\n\\nDinoV2 Predicted = {} vs. Ground Truth = {}:\".format(predicted_class, class_name))\n",
    "                plt.imshow(img) \n",
    "                plt.show()"
   ]
  },
  {
   "cell_type": "code",
   "execution_count": null,
   "metadata": {},
   "outputs": [],
   "source": [
    "# save the model\n",
    "torch.save(model.state_dict(), '{}/classifier.pth'.format(local_directory))"
   ]
  },
  {
   "cell_type": "code",
   "execution_count": null,
   "metadata": {},
   "outputs": [],
   "source": [
    "# reloading the model with trained classification weights to demonstrate deployment\n",
    "classifier = DinoVisionTransformerClassifier(\"small\")\n",
    "\n",
    "classifier.load_state_dict(torch.load('{}/classifier.pth'.format(local_directory)))\n",
    "\n",
    "classifier = classifier.to(device)\n",
    "classifier.eval()"
   ]
  },
  {
   "cell_type": "code",
   "execution_count": null,
   "metadata": {
    "scrolled": false
   },
   "outputs": [],
   "source": [
    "# Images from Creative Commons\n",
    "# https://upload.wikimedia.org/wikipedia/commons/0/03/Lurie_Garden_%28Piet_Oudolf%29_-_Millennium_Park_-_Chicago_IL_%287833308160%29.jpg\n",
    "# https://upload.wikimedia.org/wikipedia/commons/9/94/Adjoining_Industrial_Buildings_in_10-12-14_Ej%C3%A9rcito_Espa%C3%B1ol_street%2C_Valencia.jpg\n",
    "\n",
    "inference_on_validation_data(inference_model=classifier, n_test_images=1)"
   ]
  }
 ],
 "metadata": {
  "colab": {
   "provenance": []
  },
  "kernelspec": {
   "display_name": "Python 3 (ipykernel)",
   "language": "python",
   "name": "python3"
  },
  "language_info": {
   "codemirror_mode": {
    "name": "ipython",
    "version": 3
   },
   "file_extension": ".py",
   "mimetype": "text/x-python",
   "name": "python",
   "nbconvert_exporter": "python",
   "pygments_lexer": "ipython3",
   "version": "3.9.18"
  }
 },
 "nbformat": 4,
 "nbformat_minor": 1
}
